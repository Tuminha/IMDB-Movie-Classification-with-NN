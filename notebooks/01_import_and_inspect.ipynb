{
  "cells": [
    {
      "cell_type": "markdown",
      "metadata": {},
      "source": [
        "# 📊 Notebook 01: Import and Inspect Data\n",
        "\n",
        "## Your First Look at Movie Reviews\n",
        "\n",
        "This notebook introduces you to the dataset that will power your entire NLP learning journey. We'll load the IMDB movie reviews and understand their structure before diving into preprocessing.\n"
      ]
    },
    {
      "cell_type": "markdown",
      "metadata": {},
      "source": [
        "## 🧠 Concept Primer: Why Data Inspection Matters\n",
        "\n",
        "### What We're Doing\n",
        "Loading and exploring the IMDB movie reviews dataset to understand its structure, distribution, and characteristics before building our models.\n",
        "\n",
        "### Why This Step is Critical\n",
        "**Data inspection prevents downstream bugs.** Common issues caught early:\n",
        "- **Missing values** that would break tokenization\n",
        "- **Label inconsistencies** that would confuse the model\n",
        "- **Imbalanced classes** that would bias predictions\n",
        "- **Encoding issues** that would cause training failures\n",
        "\n",
        "### What We'll Discover\n",
        "- **Schema**: What columns exist and their data types\n",
        "- **Distribution**: How many examples per class\n",
        "- **Content**: Sample reviews to understand the text quality\n",
        "- **Target variable**: The aspect labels we're trying to predict\n",
        "\n",
        "### How It Maps to Our Pipeline\n",
        "This inspection directly informs:\n",
        "- **Vocabulary size decisions** (notebook 03)\n",
        "- **Padding length choices** (notebook 04) \n",
        "- **Model architecture** (number of output classes)\n",
        "- **Evaluation strategy** (handling class imbalance)\n"
      ]
    },
    {
      "cell_type": "markdown",
      "metadata": {},
      "source": [
        "## 📋 Checklist Objectives\n",
        "\n",
        "By the end of this notebook, you will have:\n",
        "\n",
        "- [ ] **Loaded both datasets** (train and test CSVs)\n",
        "- [ ] **Inspected data schema** (columns, types, shapes)\n",
        "- [ ] **Analyzed label distributions** (aspect and aspect_encoded counts)\n",
        "- [ ] **Set up key variables** (`n_aspects` for model architecture)\n",
        "- [ ] **Understood the data quality** (missing values, sample content)\n",
        "\n",
        "## ✅ Acceptance Criteria\n",
        "\n",
        "**You've completed this notebook when:**\n",
        "- Both DataFrames load without errors\n",
        "- You can print the schema and basic statistics\n",
        "- You know how many aspect classes exist (`n_aspects`)\n",
        "- You understand the distribution of labels in both train and test sets\n"
      ]
    },
    {
      "cell_type": "markdown",
      "metadata": {},
      "source": [
        "## 🔧 TODO #1: Load the Datasets\n",
        "\n",
        "**Task:** Load both train and test CSV files into pandas DataFrames.\n",
        "\n",
        "**Hint:** Use `pd.read_csv()` pointing to 'datasets/imdb_movie_reviews_train.csv' and 'datasets/imdb_movie_reviews_test.csv'\n",
        "\n",
        "**Expected Variables:**\n",
        "- `train_reviews_df` → training data DataFrame\n",
        "- `test_reviews_df` → test data DataFrame\n",
        "\n",
        "**Expected Output:** You should see DataFrames with shape information when you print them.\n"
      ]
    },
    {
      "cell_type": "code",
      "execution_count": null,
      "metadata": {},
      "outputs": [],
      "source": [
        "# TODO #1: Load the datasets\n",
        "# Your code here\n"
      ]
    },
    {
      "cell_type": "markdown",
      "metadata": {},
      "source": [
        "## 🔧 TODO #2: Inspect Data Schema\n",
        "\n",
        "**Task:** Display the first few rows and basic information about both datasets.\n",
        "\n",
        "**Hint:** Use `.head()` and `.info()` methods on both DataFrames.\n",
        "\n",
        "**What to look for:**\n",
        "- Column names and data types\n",
        "- Number of rows and columns\n",
        "- Memory usage\n",
        "- Any obvious data quality issues\n"
      ]
    },
    {
      "cell_type": "code",
      "execution_count": null,
      "metadata": {},
      "outputs": [],
      "source": [
        "# TODO #2: Inspect data schema\n",
        "# Your code here\n"
      ]
    },
    {
      "cell_type": "markdown",
      "metadata": {},
      "source": [
        "## 🔧 TODO #3: Analyze Label Distributions\n",
        "\n",
        "**Task:** Examine the distribution of both `aspect` (string) and `aspect_encoded` (integer) columns.\n",
        "\n",
        "**Hint:** Use `.value_counts()` on both columns for both datasets.\n",
        "\n",
        "**Expected Output Example:**\n",
        "```\n",
        "aspect_encoded: 0 (2500), 1 (2500), 2 (2500), 3 (2500)\n",
        "aspect: 'positive' (2500), 'negative' (2500), 'neutral' (2500), 'mixed' (2500)\n",
        "```\n",
        "\n",
        "**What to analyze:**\n",
        "- Are the classes balanced?\n",
        "- Do train and test have similar distributions?\n",
        "- Are there any missing values?\n"
      ]
    },
    {
      "cell_type": "code",
      "execution_count": null,
      "metadata": {},
      "outputs": [],
      "source": [
        "# TODO #3: Analyze label distributions\n",
        "# Your code here\n"
      ]
    },
    {
      "cell_type": "markdown",
      "metadata": {},
      "source": [
        "## 🔧 TODO #4: Set Up Key Variables\n",
        "\n",
        "**Task:** Extract the number of unique aspect classes and prepare text/label arrays.\n",
        "\n",
        "**Hint:** Use `train_reviews_df['aspect_encoded'].nunique()` to get the number of classes.\n",
        "\n",
        "**Expected Variables:**\n",
        "- `n_aspects` → number of unique aspect classes (for model architecture)\n",
        "- `train_texts` → list of review texts from training data\n",
        "- `train_labels` → list of encoded labels from training data\n",
        "- `test_texts` → list of review texts from test data  \n",
        "- `test_labels` → list of encoded labels from test data\n",
        "\n",
        "**Why this matters:** `n_aspects` determines the output size of your neural network's final layer.\n"
      ]
    },
    {
      "cell_type": "code",
      "execution_count": null,
      "metadata": {},
      "outputs": [],
      "source": [
        "# TODO #4: Set up key variables\n",
        "# Your code here\n"
      ]
    },
    {
      "cell_type": "markdown",
      "metadata": {},
      "source": [
        "## 📝 Reflection Prompts\n",
        "\n",
        "Take a moment to reflect on what you've discovered about your dataset:\n",
        "\n",
        "### 🤔 Understanding Check\n",
        "1. **What would happen if aspect_encoded had gaps (e.g., 0, 1, 5)?** How would this affect your neural network?\n",
        "\n",
        "2. **Why is it important to check both train and test distributions?** What could go wrong if they're different?\n",
        "\n",
        "3. **Looking at your sample reviews, what challenges do you anticipate in tokenization?** (Think about punctuation, capitalization, special characters)\n",
        "\n",
        "4. **If one aspect class had 90% of the examples, how would that affect your model training?**\n",
        "\n",
        "### 🎯 Data Quality Assessment\n",
        "- Are there any data quality issues you noticed?\n",
        "- How will the class distribution affect your evaluation strategy?\n",
        "- What preprocessing challenges do you foresee?\n",
        "\n",
        "---\n",
        "\n",
        "**Write your reflections here:**\n"
      ]
    },
    {
      "cell_type": "markdown",
      "metadata": {},
      "source": [
        "---\n",
        "\n",
        "## 🚀 Ready for Tokenization?\n",
        "\n",
        "Great job exploring your dataset! You now understand the structure and distribution of your movie reviews. \n",
        "\n",
        "**Key takeaways from this notebook:**\n",
        "- You know how many classes you're predicting (`n_aspects`)\n",
        "- You understand the data quality and any potential issues\n",
        "- You have clean text and label arrays ready for preprocessing\n",
        "\n",
        "**Next up:** In Notebook 02, you'll learn how to transform raw text into processable tokens using regex and string manipulation.\n",
        "\n",
        "**Remember:** Every step builds on the previous one. The text arrays you just created will become the input for your tokenization function!\n"
      ]
    }
  ],
  "metadata": {
    "language_info": {
      "name": "python"
    }
  },
  "nbformat": 4,
  "nbformat_minor": 2
}
