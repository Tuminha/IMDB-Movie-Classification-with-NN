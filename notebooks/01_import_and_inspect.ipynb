{
  "cells": [
    {
      "cell_type": "markdown",
      "metadata": {},
      "source": [
        "# 📊 Notebook 01: Import and Inspect Data\n",
        "\n",
        "## Your First Look at Movie Reviews\n",
        "\n",
        "This notebook introduces you to the dataset that will power your entire NLP learning journey. We'll load the IMDB movie reviews and understand their structure before diving into preprocessing.\n"
      ]
    },
    {
      "cell_type": "markdown",
      "metadata": {},
      "source": [
        "## 🧠 Concept Primer: Why Data Inspection Matters\n",
        "\n",
        "### What We're Doing\n",
        "Loading and exploring the IMDB movie reviews dataset to understand its structure, distribution, and characteristics before building our models.\n",
        "\n",
        "### Why This Step is Critical\n",
        "**Data inspection prevents downstream bugs.** Common issues caught early:\n",
        "- **Missing values** that would break tokenization\n",
        "- **Label inconsistencies** that would confuse the model\n",
        "- **Imbalanced classes** that would bias predictions\n",
        "- **Encoding issues** that would cause training failures\n",
        "\n",
        "### What We'll Discover\n",
        "- **Schema**: What columns exist and their data types\n",
        "- **Distribution**: How many examples per class\n",
        "- **Content**: Sample reviews to understand the text quality\n",
        "- **Target variable**: The aspect labels we're trying to predict\n",
        "\n",
        "### How It Maps to Our Pipeline\n",
        "This inspection directly informs:\n",
        "- **Vocabulary size decisions** (notebook 03)\n",
        "- **Padding length choices** (notebook 04) \n",
        "- **Model architecture** (number of output classes)\n",
        "- **Evaluation strategy** (handling class imbalance)\n"
      ]
    },
    {
      "cell_type": "markdown",
      "metadata": {},
      "source": [
        "## 📋 Checklist Objectives\n",
        "\n",
        "By the end of this notebook, you will have:\n",
        "\n",
        "- [ ] **Loaded both datasets** (train and test CSVs)\n",
        "- [ ] **Inspected data schema** (columns, types, shapes)\n",
        "- [ ] **Analyzed label distributions** (aspect and aspect_encoded counts)\n",
        "- [ ] **Set up key variables** (`n_aspects` for model architecture)\n",
        "- [ ] **Understood the data quality** (missing values, sample content)\n",
        "\n",
        "## ✅ Acceptance Criteria\n",
        "\n",
        "**You've completed this notebook when:**\n",
        "- Both DataFrames load without errors\n",
        "- You can print the schema and basic statistics\n",
        "- You know how many aspect classes exist (`n_aspects`)\n",
        "- You understand the distribution of labels in both train and test sets\n"
      ]
    },
    {
      "cell_type": "markdown",
      "metadata": {},
      "source": [
        "## 🔧 TODO #1: Load the Datasets\n",
        "\n",
        "**Task:** Load both train and test CSV files into pandas DataFrames.\n",
        "\n",
        "**Hint:** Use `pd.read_csv()` pointing to 'datasets/imdb_movie_reviews_train.csv' and 'datasets/imdb_movie_reviews_test.csv'\n",
        "\n",
        "**Expected Variables:**\n",
        "- `train_reviews_df` → training data DataFrame\n",
        "- `test_reviews_df` → test data DataFrame\n",
        "\n",
        "**Expected Output:** You should see DataFrames with shape information when you print them.\n"
      ]
    },
    {
      "cell_type": "code",
      "execution_count": 8,
      "metadata": {},
      "outputs": [
        {
          "name": "stdout",
          "output_type": "stream",
          "text": [
            "Training DataFrame Info:\n",
            "<class 'pandas.core.frame.DataFrame'>\n",
            "RangeIndex: 369 entries, 0 to 368\n",
            "Data columns (total 3 columns):\n",
            " #   Column          Non-Null Count  Dtype \n",
            "---  ------          --------------  ----- \n",
            " 0   review          369 non-null    object\n",
            " 1   aspect          369 non-null    object\n",
            " 2   aspect_encoded  369 non-null    int64 \n",
            "dtypes: int64(1), object(2)\n",
            "memory usage: 8.8+ KB\n",
            "None\n",
            "\n",
            "Training DataFrame Head:\n",
            "                                              review          aspect  \\\n",
            "0       Ibiza filming location looks very enchanting  Cinematography   \n",
            "1  RANDOLPH SCOTT always played men you could loo...      Characters   \n",
            "2  interesting and promising basic idea', 'some p...           Story   \n",
            "3  the film could explore very powerful politics,...           Story   \n",
            "4  The animation is nice, and the use of color ma...  Cinematography   \n",
            "\n",
            "   aspect_encoded  \n",
            "0               0  \n",
            "1               1  \n",
            "2               2  \n",
            "3               2  \n",
            "4               0  \n",
            "\n",
            "Type pf aspect categories:\n",
            "['Cinematography', 'Characters', 'Story']\n",
            "Values range in aspec_encoded:\n",
            "aspect_encoded\n",
            "0    125\n",
            "1    123\n",
            "2    121\n",
            "Name: count, dtype: int64\n"
          ]
        }
      ],
      "source": [
        "# TODO #1: Load the datasets\n",
        "# Your code here\n",
        "import pandas as pd\n",
        "\n",
        "train_reviews_df = pd.read_csv('../data/imdb_movie_reviews_train.csv')\n",
        "test_reviews_df = pd.read_csv('../data/imdb_movie_reviews_test.csv')\n",
        "aspect_types = train_reviews_df['aspect'].unique().tolist()\n",
        "\n",
        "\n",
        "# TODO #2: Explore the datasets\n",
        "print(\"Training DataFrame Info:\")\n",
        "print(train_reviews_df.info())\n",
        "print(\"\\nTraining DataFrame Head:\")\n",
        "print(train_reviews_df.head())\n",
        "print(\"\\nType pf aspect categories:\")\n",
        "print(aspect_types)\n",
        "print(\"Values range in aspec_encoded:\")\n",
        "print(train_reviews_df['aspect_encoded'].value_counts())\n",
        "\n",
        "\n"
      ]
    },
    {
      "cell_type": "markdown",
      "metadata": {},
      "source": [
        "## 🔧 TODO #2: Inspect Data Schema\n",
        "\n",
        "**Task:** Display the first few rows and basic information about both datasets.\n",
        "\n",
        "**Hint:** Use `.head()` and `.info()` methods on both DataFrames.\n",
        "\n",
        "**What to look for:**\n",
        "- Column names and data types\n",
        "- Number of rows and columns\n",
        "- Memory usage\n",
        "- Any obvious data quality issues\n"
      ]
    },
    {
      "cell_type": "code",
      "execution_count": 9,
      "metadata": {},
      "outputs": [
        {
          "name": "stdout",
          "output_type": "stream",
          "text": [
            "\n",
            "Training DataFrame Head:\n",
            "                                              review          aspect  \\\n",
            "0       Ibiza filming location looks very enchanting  Cinematography   \n",
            "1  RANDOLPH SCOTT always played men you could loo...      Characters   \n",
            "2  interesting and promising basic idea', 'some p...           Story   \n",
            "3  the film could explore very powerful politics,...           Story   \n",
            "4  The animation is nice, and the use of color ma...  Cinematography   \n",
            "\n",
            "   aspect_encoded  \n",
            "0               0  \n",
            "1               1  \n",
            "2               2  \n",
            "3               2  \n",
            "4               0  \n",
            "\n",
            "Test DataFrame Head:\n",
            "                                              review          aspect  \\\n",
            "0  the cinematography is commonplace it at least ...  Cinematography   \n",
            "1  The cinematography is OK', 'there are some pre...  Cinematography   \n",
            "2  the strangely annoying and unnecessary George ...      Characters   \n",
            "3  Alyssa Milano', 'Tina Yothers', \"Edie McClurg ...      Characters   \n",
            "4  I loved the way the minor characters intervene...      Characters   \n",
            "\n",
            "   aspect_encoded  \n",
            "0               0  \n",
            "1               0  \n",
            "2               1  \n",
            "3               1  \n",
            "4               1  \n"
          ]
        }
      ],
      "source": [
        "# TODO #2: Inspect data schema\n",
        "# Your code here\n",
        "print(\"\\nTraining DataFrame Head:\")\n",
        "print(train_reviews_df.head())\n",
        "print(\"\\nTest DataFrame Head:\")\n",
        "print(test_reviews_df.head())"
      ]
    },
    {
      "cell_type": "markdown",
      "metadata": {},
      "source": [
        "## 🔧 TODO #3: Analyze Label Distributions\n",
        "\n",
        "**Task:** Examine the distribution of both `aspect` (string) and `aspect_encoded` (integer) columns.\n",
        "\n",
        "**Hint:** Use `.value_counts()` on both columns for both datasets.\n",
        "\n",
        "**Expected Output Example:**\n",
        "```\n",
        "aspect_encoded: 0 (2500), 1 (2500), 2 (2500), 3 (2500)\n",
        "aspect: 'positive' (2500), 'negative' (2500), 'neutral' (2500), 'mixed' (2500)\n",
        "```\n",
        "\n",
        "**What to analyze:**\n",
        "- Are the classes balanced?\n",
        "- Do train and test have similar distributions?\n",
        "- Are there any missing values?\n"
      ]
    },
    {
      "cell_type": "code",
      "execution_count": 10,
      "metadata": {},
      "outputs": [
        {
          "name": "stdout",
          "output_type": "stream",
          "text": [
            "\n",
            "Aspect Value Distribution in Training Set:\n",
            "aspect\n",
            "Cinematography    125\n",
            "Characters        123\n",
            "Story             121\n",
            "Name: count, dtype: int64\n"
          ]
        }
      ],
      "source": [
        "# TODO #3: Analyze label distributions\n",
        "# Your code here\n",
        "values_distribution = train_reviews_df['aspect'].value_counts()\n",
        "print(\"\\nAspect Value Distribution in Training Set:\")\n",
        "print(values_distribution)\n"
      ]
    },
    {
      "cell_type": "markdown",
      "metadata": {},
      "source": [
        "## 🔧 TODO #4: Set Up Key Variables\n",
        "\n",
        "**Task:** Extract the number of unique aspect classes and prepare text/label arrays.\n",
        "\n",
        "**Hint:** Use `train_reviews_df['aspect_encoded'].nunique()` to get the number of classes.\n",
        "\n",
        "**Expected Variables:**\n",
        "- `n_aspects` → number of unique aspect classes (for model architecture)\n",
        "- `train_texts` → list of review texts from training data\n",
        "- `train_labels` → list of encoded labels from training data\n",
        "- `test_texts` → list of review texts from test data  \n",
        "- `test_labels` → list of encoded labels from test data\n",
        "\n",
        "**Why this matters:** `n_aspects` determines the output size of your neural network's final layer.\n"
      ]
    },
    {
      "cell_type": "code",
      "execution_count": 11,
      "metadata": {},
      "outputs": [],
      "source": [
        "# TODO #4: Set up key variables\n",
        "# Your code here\n",
        "n_aspects = len(aspect_types)\n",
        "train_texts = train_reviews_df['review'].tolist()\n",
        "train_labels = train_reviews_df['aspect_encoded'].tolist()\n",
        "# Test set\n",
        "test_texts = test_reviews_df['review'].tolist()\n",
        "test_labels = test_reviews_df['aspect_encoded'].tolist()"
      ]
    },
    {
      "cell_type": "markdown",
      "metadata": {},
      "source": [
        "## 📝 Reflection Prompts\n",
        "\n",
        "Take a moment to reflect on what you've discovered about your dataset:\n",
        "\n",
        "### 🤔 Understanding Check\n",
        "1. **What would happen if aspect_encoded had gaps (e.g., 0, 1, 5)?** How would this affect your neural network?\n",
        "\n",
        "2. **Why is it important to check both train and test distributions?** What could go wrong if they're different?\n",
        "\n",
        "3. **Looking at your sample reviews, what challenges do you anticipate in tokenization?** (Think about punctuation, capitalization, special characters)\n",
        "\n",
        "4. **If one aspect class had 90% of the examples, how would that affect your model training?**\n",
        "\n",
        "### 🎯 Data Quality Assessment\n",
        "- Are there any data quality issues you noticed?\n",
        "- How will the class distribution affect your evaluation strategy?\n",
        "- What preprocessing challenges do you foresee?\n",
        "\n",
        "---\n",
        "\n",
        "**Write your reflections here:**\n"
      ]
    },
    {
      "cell_type": "markdown",
      "metadata": {},
      "source": [
        "---\n",
        "\n",
        "## 🚀 Ready for Tokenization?\n",
        "\n",
        "Great job exploring your dataset! You now understand the structure and distribution of your movie reviews. \n",
        "\n",
        "**Key takeaways from this notebook:**\n",
        "- You know how many classes you're predicting (`n_aspects`)\n",
        "- You understand the data quality and any potential issues\n",
        "- You have clean text and label arrays ready for preprocessing\n",
        "\n",
        "**Next up:** In Notebook 02, you'll learn how to transform raw text into processable tokens using regex and string manipulation.\n",
        "\n",
        "**Remember:** Every step builds on the previous one. The text arrays you just created will become the input for your tokenization function!\n"
      ]
    }
  ],
  "metadata": {
    "kernelspec": {
      "display_name": "Codecademy ML",
      "language": "python",
      "name": "codeacademy"
    },
    "language_info": {
      "codemirror_mode": {
        "name": "ipython",
        "version": 3
      },
      "file_extension": ".py",
      "mimetype": "text/x-python",
      "name": "python",
      "nbconvert_exporter": "python",
      "pygments_lexer": "ipython3",
      "version": "3.11.7"
    }
  },
  "nbformat": 4,
  "nbformat_minor": 2
}
