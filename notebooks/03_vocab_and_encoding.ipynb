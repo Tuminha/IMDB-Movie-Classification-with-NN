{
  "cells": [
    {
      "cell_type": "markdown",
      "metadata": {},
      "source": [
        "# 📚 Notebook 03: Vocabulary Building & Encoding\n",
        "\n",
        "## From Words to Numbers\n",
        "\n",
        "This notebook teaches you how to build a vocabulary dictionary that maps words to integers, then use that vocabulary to encode your tokenized text into numerical representations that neural networks can process.\n"
      ]
    },
    {
      "cell_type": "markdown",
      "metadata": {},
      "source": [
        "## 🧠 Concept Primer: Vocabulary and Encoding\n",
        "\n",
        "### What We're Doing\n",
        "Building a vocabulary dictionary that maps words to integers, then encoding tokenized text into numerical sequences.\n",
        "\n",
        "### Why This Step is Critical\n",
        "**Neural networks require numerical inputs.** We need to:\n",
        "- **Map words to integers** (vocabulary dictionary)\n",
        "- **Handle unknown words** (special `<unk>` token)\n",
        "- **Manage sequence length** (special `<pad>` token)\n",
        "- **Limit vocabulary size** (most common 1000 words + specials)\n",
        "\n",
        "### What We'll Build\n",
        "- **Word frequency counting** using `collections.Counter`\n",
        "- **Vocabulary dictionary** with special tokens at positions 0 and 1\n",
        "- **Encoding function** that converts tokens to integers\n",
        "- **Out-of-vocabulary handling** (unknown words → `<unk>`)\n",
        "\n",
        "### Special Tokens Strategy\n",
        "- `<unk>` = 0 (unknown/rare words)\n",
        "- `<pad>` = 1 (padding for fixed-length sequences)\n",
        "- Regular words = 2, 3, 4, ... (most frequent first)\n",
        "\n",
        "### Expected Output Example\n",
        "```python\n",
        "encode_text(\"This movie was great\", vocab)\n",
        "# Returns: [45, 12, 8, 203] (actual numbers depend on your vocab)\n",
        "```\n"
      ]
    },
    {
      "cell_type": "markdown",
      "metadata": {},
      "source": [
        "## 🔧 TODO #1: Build Word Frequencies\n",
        "\n",
        "**Task:** Count word frequencies across all tokenized reviews to identify the most common words.\n",
        "\n",
        "**Hint:** Flatten `tokenized_corpus` into a single list, then use `Counter(combined_corpus)`\n",
        "\n",
        "**Expected Variables:**\n",
        "- `combined_corpus` → Flat list of all tokens from all reviews\n",
        "- `word_freqs` → Counter object with word frequencies\n",
        "\n",
        "**Expected Output:** You should see the most frequent words when you print `word_freqs.most_common(10)`\n"
      ]
    },
    {
      "cell_type": "code",
      "execution_count": null,
      "metadata": {},
      "outputs": [],
      "source": [
        "# TODO #1: Build word frequencies\n",
        "from collections import Counter\n",
        "\n",
        "# Your code here\n"
      ]
    },
    {
      "cell_type": "markdown",
      "metadata": {},
      "source": [
        "## 🔧 TODO #2: Create Vocabulary Dictionary\n",
        "\n",
        "**Task:** Build vocabulary dictionary with most common 1000 words plus special tokens.\n",
        "\n",
        "**Hint:** Use `word_freqs.most_common(1000)` to get top words, then create vocab with `{word: idx+2 for idx, (word, _) in enumerate(most_common_words)}`, then add special tokens.\n",
        "\n",
        "**Expected Variables:**\n",
        "- `MAX_VOCAB_SIZE = 1000`\n",
        "- `most_common_words` → List of (word, count) tuples\n",
        "- `vocab` → Dictionary mapping words to integers\n",
        "\n",
        "**Expected Output:** `len(vocab) == 1002` (1000 words + 2 special tokens)\n"
      ]
    },
    {
      "cell_type": "code",
      "execution_count": null,
      "metadata": {},
      "outputs": [],
      "source": [
        "# TODO #2: Create vocabulary dictionary\n",
        "# Your code here\n"
      ]
    },
    {
      "cell_type": "markdown",
      "metadata": {},
      "source": [
        "## 🔧 TODO #3: Implement Encoding Function\n",
        "\n",
        "**Task:** Create function that converts text to list of integers using vocabulary.\n",
        "\n",
        "**Hint:** Tokenize first with your existing function, then use `[vocab.get(token, 0) for token in tokens]` to handle unknown words.\n",
        "\n",
        "**Expected Function Signature:**\n",
        "```python\n",
        "def encode_text(text, vocab):\n",
        "    # Your implementation here\n",
        "    return encoded_ids  # List of integers\n",
        "```\n",
        "\n",
        "**Expected Output Example:**\n",
        "```python\n",
        "encode_text(\"This movie was great\", vocab)\n",
        "# Returns: [45, 12, 8, 203] (numbers will vary based on your vocab)\n",
        "```\n"
      ]
    },
    {
      "cell_type": "code",
      "execution_count": null,
      "metadata": {},
      "outputs": [],
      "source": [
        "# TODO #3: Implement encoding function\n",
        "# Your code here\n"
      ]
    },
    {
      "cell_type": "markdown",
      "metadata": {},
      "source": [
        "## 📝 Reflection Prompts\n",
        "\n",
        "### 🤔 Understanding Check\n",
        "1. **Why start vocab IDs at 2?** What would happen if you started at 0?\n",
        "\n",
        "2. **What happens if test data has many unknown words?** How does this affect model performance?\n",
        "\n",
        "3. **Why limit vocabulary to 1000 words?** What's the tradeoff between vocabulary size and model performance?\n",
        "\n",
        "4. **How does the `<unk>` token help with generalization?** What would happen without it?\n",
        "\n",
        "### 🎯 Vocabulary Quality\n",
        "- Are the most frequent words what you'd expect for movie reviews?\n",
        "- How many words in your vocabulary do you recognize as movie-related?\n",
        "- What percentage of tokens will become `<unk>` in unseen text?\n",
        "\n",
        "---\n",
        "\n",
        "**Write your reflections here:**\n"
      ]
    }
  ],
  "metadata": {
    "language_info": {
      "name": "python"
    }
  },
  "nbformat": 4,
  "nbformat_minor": 2
}
