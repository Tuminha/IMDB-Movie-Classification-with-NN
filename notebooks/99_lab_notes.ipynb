{
  "cells": [
    {
      "cell_type": "markdown",
      "metadata": {},
      "source": [
        "# 📝 Lab Notes: Your Learning Journal\n",
        "\n",
        "## Reflection Solidifies Learning\n",
        "\n",
        "This notebook serves as your personal learning journal. Research shows that reflection is one of the most powerful ways to solidify understanding and identify patterns in your learning process.\n",
        "\n",
        "**How to use this notebook:**\n",
        "- Complete at least one entry per notebook you finish\n",
        "- Be honest about what worked and what didn't\n",
        "- Notice patterns across your learning journey\n",
        "- Use insights to improve your approach\n",
        "\n",
        "---\n",
        "\n",
        "## 📋 Entry Template\n",
        "\n",
        "**Date:** [Today's date]  \n",
        "**Notebook:** [Notebook number and name]  \n",
        "**What Worked:** [What went well, what you understood easily]  \n",
        "**What Broke:** [What was difficult, where you got stuck]  \n",
        "**One Surprise:** [Something unexpected you learned or discovered]  \n",
        "**One Change for Next Time:** [How you'll approach similar problems differently]\n",
        "\n",
        "---\n"
      ]
    },
    {
      "cell_type": "markdown",
      "metadata": {},
      "source": [
        "## 📝 Entry 1: Notebook 00 - Overview\n",
        "\n",
        "**Date:** [Fill in when you complete this notebook]  \n",
        "**Notebook:** 00_overview.ipynb  \n",
        "**What Worked:**  \n",
        "**What Broke:**  \n",
        "**One Surprise:**  \n",
        "**One Change for Next Time:**  \n",
        "\n",
        "---\n"
      ]
    },
    {
      "cell_type": "markdown",
      "metadata": {},
      "source": [
        "## 📝 Entry 2: Notebook 01 - Import and Inspect\n",
        "\n",
        "**Date:** [Fill in when you complete this notebook]  \n",
        "**Notebook:** 01_import_and_inspect.ipynb  \n",
        "**What Worked:**  \n",
        "**What Broke:**  \n",
        "**One Surprise:**  \n",
        "**One Change for Next Time:**  \n",
        "\n",
        "---\n"
      ]
    },
    {
      "cell_type": "markdown",
      "metadata": {},
      "source": [
        "## 📝 Entry 3: Notebook 02 - Preprocessing & Tokenization\n",
        "\n",
        "**Date:** [Fill in when you complete this notebook]  \n",
        "**Notebook:** 02_preprocessing_tokenization.ipynb  \n",
        "**What Worked:**  \n",
        "**What Broke:**  \n",
        "**One Surprise:**  \n",
        "**One Change for Next Time:**  \n",
        "\n",
        "---\n"
      ]
    },
    {
      "cell_type": "markdown",
      "metadata": {},
      "source": [
        "## 📝 Entry 4: Notebook 03 - Vocabulary Building & Encoding\n",
        "\n",
        "**Date:** [Fill in when you complete this notebook]  \n",
        "**Notebook:** 03_vocab_and_encoding.ipynb  \n",
        "**What Worked:**  \n",
        "**What Broke:**  \n",
        "**One Surprise:**  \n",
        "**One Change for Next Time:**  \n",
        "\n",
        "---\n"
      ]
    },
    {
      "cell_type": "markdown",
      "metadata": {},
      "source": [
        "## 📝 Entry 5: Notebook 04 - Padding, Tensors & DataLoader\n",
        "\n",
        "**Date:** [Fill in when you complete this notebook]  \n",
        "**Notebook:** 04_padding_tensors_dataloader.ipynb  \n",
        "**What Worked:**  \n",
        "**What Broke:**  \n",
        "**One Surprise:**  \n",
        "**One Change for Next Time:**  \n",
        "\n",
        "---\n"
      ]
    },
    {
      "cell_type": "markdown",
      "metadata": {},
      "source": [
        "## 📝 Entry 6: Notebook 05 - Simple Neural Network\n",
        "\n",
        "**Date:** [Fill in when you complete this notebook]  \n",
        "**Notebook:** 05_simpleNN_with_embedding.ipynb  \n",
        "**What Worked:**  \n",
        "**What Broke:**  \n",
        "**One Surprise:**  \n",
        "**One Change for Next Time:**  \n",
        "\n",
        "---\n"
      ]
    },
    {
      "cell_type": "markdown",
      "metadata": {},
      "source": [
        "## 📝 Entry 7: Notebook 06 - Training & Evaluation\n",
        "\n",
        "**Date:** [Fill in when you complete this notebook]  \n",
        "**Notebook:** 06_eval_baseline_metrics.ipynb  \n",
        "**What Worked:**  \n",
        "**What Broke:**  \n",
        "**One Surprise:**  \n",
        "**One Change for Next Time:**  \n",
        "\n",
        "---\n"
      ]
    },
    {
      "cell_type": "markdown",
      "metadata": {},
      "source": [
        "## 📝 Entry 8: Notebook 07 - TinyBERT Setup\n",
        "\n",
        "**Date:** [Fill in when you complete this notebook]  \n",
        "**Notebook:** 07_tinybert_setup_and_freeze.ipynb  \n",
        "**What Worked:**  \n",
        "**What Broke:**  \n",
        "**One Surprise:**  \n",
        "**One Change for Next Time:**  \n",
        "\n",
        "---\n"
      ]
    },
    {
      "cell_type": "markdown",
      "metadata": {},
      "source": [
        "## 📝 Entry 9: Notebook 08 - TinyBERT Fine-Tuning\n",
        "\n",
        "**Date:** [Fill in when you complete this notebook]  \n",
        "**Notebook:** 08_tinybert_finetune_trainloop.ipynb  \n",
        "**What Worked:**  \n",
        "**What Broke:**  \n",
        "**One Surprise:**  \n",
        "**One Change for Next Time:**  \n",
        "\n",
        "---\n"
      ]
    },
    {
      "cell_type": "markdown",
      "metadata": {},
      "source": [
        "## 📝 Entry 10: Notebook 09 - Evaluation & Comparison\n",
        "\n",
        "**Date:** [Fill in when you complete this notebook]  \n",
        "**Notebook:** 09_tinybert_eval_compare.ipynb  \n",
        "**What Worked:**  \n",
        "**What Broke:**  \n",
        "**One Surprise:**  \n",
        "**One Change for Next Time:**  \n",
        "\n",
        "---\n"
      ]
    },
    {
      "cell_type": "markdown",
      "metadata": {},
      "source": [
        "## 🎯 Final Reflection: Learning Patterns\n",
        "\n",
        "**At the end of your project, read all your entries and reflect on these questions:**\n",
        "\n",
        "### 📊 Pattern Recognition\n",
        "- What themes do you notice across your learning journey?\n",
        "- Which concepts were consistently challenging?\n",
        "- Where did you experience the most \"aha\" moments?\n",
        "\n",
        "### 🚀 Growth Insights\n",
        "- How did your understanding of NLP evolve?\n",
        "- What skills did you develop that surprised you?\n",
        "- Which approach worked best for your learning style?\n",
        "\n",
        "### 🔮 Future Applications\n",
        "- How will you apply these concepts to new projects?\n",
        "- What would you do differently if starting over?\n",
        "- What are you excited to explore next?\n",
        "\n",
        "---\n",
        "\n",
        "**Write your final reflections here:**\n"
      ]
    }
  ],
  "metadata": {
    "language_info": {
      "name": "python"
    }
  },
  "nbformat": 4,
  "nbformat_minor": 2
}
