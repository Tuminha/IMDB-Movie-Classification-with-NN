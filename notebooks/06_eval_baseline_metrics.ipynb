{
  "cells": [
    {
      "cell_type": "markdown",
      "metadata": {},
      "source": [
        "# 📊 Notebook 06: Training & Evaluating Baseline Model\n",
        "\n",
        "## From Model to Metrics\n",
        "\n",
        "This notebook teaches you how to train your neural network and evaluate its performance using standard classification metrics. You'll implement the training loop, compute accuracy and F1-scores, and analyze your baseline model's strengths and weaknesses.\n"
      ]
    },
    {
      "cell_type": "markdown",
      "metadata": {},
      "source": [
        "## 🧠 Concept Primer: Training and Evaluation\n",
        "\n",
        "### What We're Doing\n",
        "Training your neural network to minimize loss and evaluating its performance on unseen data using classification metrics.\n",
        "\n",
        "### Why This Step is Critical\n",
        "**Training updates model weights** to learn patterns in the data. **Evaluation measures** how well the model generalizes to new examples.\n",
        "\n",
        "### Training Loop Components\n",
        "1. **Forward pass**: Input → Model → Predictions\n",
        "2. **Loss computation**: Predictions vs true labels\n",
        "3. **Backward pass**: Compute gradients\n",
        "4. **Parameter update**: Adjust weights to reduce loss\n",
        "\n",
        "### Evaluation Metrics\n",
        "- **Accuracy**: Percentage of correct predictions\n",
        "- **Precision**: True positives / (True positives + False positives)\n",
        "- **Recall**: True positives / (True positives + False negatives)  \n",
        "- **F1-Score**: Harmonic mean of precision and recall\n",
        "\n",
        "### Shape Expectations\n",
        "- **Logits**: `[batch, n_aspects]` → raw model outputs\n",
        "- **Predictions**: `[batch]` → argmax of logits\n",
        "- **Labels**: `[batch]` → true class indices\n"
      ]
    },
    {
      "cell_type": "markdown",
      "metadata": {},
      "source": [
        "## 🔧 TODO #1: Implement Training Loop\n",
        "\n",
        "**Task:** Create training loop that iterates through batches and updates model parameters.\n",
        "\n",
        "**Hint:** Use `model.train()`, then loop with `optimizer.zero_grad()`, forward pass, loss computation, `loss.backward()`, `optimizer.step()`\n",
        "\n",
        "**Expected Function:**\n",
        "```python\n",
        "def train_model(model, train_loader, criterion, optimizer, num_epochs=20):\n",
        "    for epoch in range(num_epochs):\n",
        "        total_loss = 0\n",
        "        # TODO: Training loop here\n",
        "        print(f\"Epoch {epoch+1}, Loss: {total_loss/len(train_loader):.4f}\")\n",
        "```\n",
        "\n",
        "**Track:** Total loss per epoch to monitor training progress\n"
      ]
    },
    {
      "cell_type": "code",
      "execution_count": null,
      "metadata": {},
      "outputs": [],
      "source": [
        "# TODO #1: Implement training loop\n",
        "# Your code here\n"
      ]
    },
    {
      "cell_type": "markdown",
      "metadata": {},
      "source": [
        "## 🔧 TODO #2: Implement Evaluation Function\n",
        "\n",
        "**Task:** Create evaluation function that computes predictions and metrics on test data.\n",
        "\n",
        "**Hint:** Use `model.eval()`, `with torch.no_grad():`, collect predictions with `torch.argmax(torch.softmax(logits, dim=1), dim=1)`\n",
        "\n",
        "**Expected Function:**\n",
        "```python\n",
        "def evaluate_model(model, test_loader):\n",
        "    model.eval()\n",
        "    all_predictions = []\n",
        "    all_labels = []\n",
        "    # TODO: Evaluation loop here\n",
        "    return all_predictions, all_labels\n",
        "```\n",
        "\n",
        "**Shape:** Predictions and labels should both be lists of integers\n"
      ]
    },
    {
      "cell_type": "code",
      "execution_count": null,
      "metadata": {},
      "outputs": [],
      "source": [
        "# TODO #2: Implement evaluation function\n",
        "# Your code here\n"
      ]
    },
    {
      "cell_type": "markdown",
      "metadata": {},
      "source": [
        "## 🔧 TODO #3: Compute Metrics and Analysis\n",
        "\n",
        "**Task:** Train model, evaluate, and compute classification metrics.\n",
        "\n",
        "**Hint:** Use `accuracy_score(y_true, y_pred)`, `classification_report(y_true, y_pred)`, `confusion_matrix(y_true, y_pred)`\n",
        "\n",
        "**Expected Output:**\n",
        "- Train model for 20-50 epochs\n",
        "- Print accuracy, precision, recall, F1-score\n",
        "- Show confusion matrix\n",
        "- Write 1-2 paragraph interpretation\n",
        "\n",
        "**Sample Output:**\n",
        "```\n",
        "Accuracy: 0.65\n",
        "F1-Score (macro): 0.63\n",
        "Classification Report:\n",
        "              precision    recall  f1-score   support\n",
        "           0       0.68      0.62      0.65      1000\n",
        "           1       0.63      0.69      0.66      1000\n",
        "```\n"
      ]
    },
    {
      "cell_type": "code",
      "execution_count": null,
      "metadata": {},
      "outputs": [],
      "source": [
        "# TODO #3: Compute metrics and analysis\n",
        "from sklearn.metrics import accuracy_score, classification_report, confusion_matrix\n",
        "\n",
        "# Your code here\n"
      ]
    },
    {
      "cell_type": "markdown",
      "metadata": {},
      "source": [
        "## 📝 Reflection Prompts\n",
        "\n",
        "### 🤔 Understanding Check\n",
        "1. **Which aspects does the baseline confuse most?** Look at the confusion matrix—what patterns do you see?\n",
        "\n",
        "2. **Why does loss decrease but accuracy plateau?** What does this tell you about the model's learning?\n",
        "\n",
        "3. **How does the baseline performance compare to random guessing?** Is your model actually learning?\n",
        "\n",
        "4. **What would you expect to improve with a transformer model?** Consider vocabulary coverage and context understanding.\n",
        "\n",
        "### 🎯 Baseline Analysis\n",
        "- What are the model's strengths and weaknesses?\n",
        "- Which aspect classes are easiest/hardest to predict?\n",
        "- How does the simple architecture limit performance?\n",
        "\n",
        "---\n",
        "\n",
        "**Write your reflections here:**\n"
      ]
    }
  ],
  "metadata": {
    "language_info": {
      "name": "python"
    }
  },
  "nbformat": 4,
  "nbformat_minor": 2
}
